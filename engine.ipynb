{
 "cells": [
  {
   "cell_type": "code",
   "execution_count": 1,
   "metadata": {},
   "outputs": [],
   "source": [
    "from ABS import *\n",
    "from Diarrhea_Disease import *\n",
    "from Colon_Disease import *\n",
    "from Right_Upper import *\n",
    "from Right_upper_AB import *\n",
    "from Abdominal_Pain import *"
   ]
  },
  {
   "cell_type": "code",
   "execution_count": 2,
   "metadata": {
    "slideshow": {
     "slide_type": "fragment"
    }
   },
   "outputs": [],
   "source": [
    "class engine(Find_Disease_Realting_to_diarrhea,\n",
    "             Find_Soluation_For_Epegastric_Abdominal,\n",
    "             Find_soluation_For_upper_Right_ABS_With_Shoulder_Pain,\n",
    "             Find_solution_For_Right_upper_AB,\n",
    "             Find_Upper_Left_And_Normal_Abdominal_Pain_Disease,\n",
    "             getColon,\n",
    "             KnowledgeEngine):\n",
    "    \n",
    "        \n",
    "    @DefFacts()\n",
    "    def start(self):\n",
    "        yield GoalisTo(action=\"Abs\")\n",
    "        \n",
    "    @Rule(GoalisTo(action=\"getAnother\"),Answer(),NOT(Fact(\"Done\")),salience=-1)\n",
    "    def Done(self):\n",
    "        print(\"Done !\")\n",
    "        self.declare(Fact(\"Done\"))\n",
    "        \n",
    "    @Rule(GoalisTo(action=\"getAnother\"),NOT(Answer()))\n",
    "    def Another(self):\n",
    "        print(\"Sorry The Disease you have,it's not in our database\")\n",
    "        \n",
    "    @Rule(Answer(name=MATCH.name,pro=MATCH.cf),salience=0)\n",
    "    def answer(self,name,cf):\n",
    "            name=str(name)\n",
    "            name=name[name.find(\".\"):]\n",
    "            print(\"you Have [ %s ] with probability %f\"%(name[1:],cf))\n",
    "    "
   ]
  },
  {
   "cell_type": "code",
   "execution_count": 4,
   "metadata": {
    "scrolled": true
   },
   "outputs": [
    {
     "name": "stdout",
     "output_type": "stream",
     "text": [
      "THE ANSWER SHOULD BE (y\\[n]) \n",
      "Do you Have Abdominal Pain  ? y\n",
      "-----------------------------------------------------------------------\n",
      "could you please choose one of this list to describe The [ ABDOMINAL PAIN ] you Have ? \n",
      "-----------------------------------------------------------------------\n",
      "\n",
      "1 [EPIGASTRIC_ABDOMINAL]  2 [LEFT_UPPER_QUADRANT]  3 [RIGHT_UPPER_QUADRANT]  4 [ABDOMINAL]  3\n",
      "THE ANSWER SHOULD BE (y\\[n]) \n",
      "Is There any Pain In The SHOULDER ?  y\n",
      "------------------------------------------------------------------------------------------------\n",
      "1 [ALMOST]\t 2 [VERY MUCH]\t 3 [A LITTLE]\t 4 [SOMETIMES]\t 5 [YES]\t 6 [NEVER]\t 7 [NOT SURE]\t 8 [NO]\t \n",
      "----------------------------------------------------------------------------------------------\n",
      "Do you Have a [NOUSEA] ? 8\n",
      "-------------------------------------------------------------------------------------------\n",
      "THE ANSWER SHOULD BE (y\\[n]) \n",
      "Do you Have A VOMITTING ? y\n",
      "-----------------------------------------------------------------------\n",
      "could you please choose one of this list to describe The [ VOMITTING ] you Have ? \n",
      "-----------------------------------------------------------------------\n",
      "\n",
      "1 [VOMITING]  2 [BILE_VOMITTING]  3 [BLEEDING_VOMITING]  3\n",
      "------------------------------------------------------------------------------------------------\n",
      "1 [ALMOST]\t 2 [VERY MUCH]\t 3 [A LITTLE]\t 4 [SOMETIMES]\t 5 [YES]\t 6 [NEVER]\t 7 [NOT SURE]\t 8 [NO]\t \n",
      "----------------------------------------------------------------------------------------------\n",
      "Do you Have Fever ? 5\n",
      "-------------------------------------------------------------------------------------------\n",
      "You probably Have [CHOLECYSTITIS] But you Have to make an [ECHO] \n",
      "-------------------------------------------------------------------------------------\n",
      "1 [GALLBLADDER_WALL_THICKENING]  2 [PERICHOLECYSTIC_FLUID]  3 [HIBATOMIGALI]  4 [SPLINO_MIGALI]  5 [FREE_LIQUADE]  \n",
      "-----------------------------------------------------------------------------------\n",
      "PLEASE ENTER THE DESCRIPTION OF WHAT YOU CAN SEE IN THE [ECHO] OR YOU CAN END THE INPUT BY ENTERING [E\\e] 1\n",
      "-----------------------------------------------------------------------------------\n",
      "PLEASE ENTER THE DESCRIPTION OF WHAT YOU CAN SEE IN THE [ECHO] OR YOU CAN END THE INPUT BY ENTERING [E\\e] 2\n",
      "-----------------------------------------------------------------------------------\n",
      "PLEASE ENTER THE DESCRIPTION OF WHAT YOU CAN SEE IN THE [ECHO] OR YOU CAN END THE INPUT BY ENTERING [E\\e] e\n",
      "-----------------------------------------------------------------------------------\n",
      "------------------------------------------------------------------------------------------------\n",
      "1 [ALMOST]\t 2 [VERY MUCH]\t 3 [A LITTLE]\t 4 [SOMETIMES]\t 5 [YES]\t 6 [NEVER]\t 7 [NOT SURE]\t 8 [NO]\t \n",
      "----------------------------------------------------------------------------------------------\n",
      "Do you Have [WEIGH_LOSS] ?3\n",
      "-------------------------------------------------------------------------------------------\n",
      "THE ANSWER SHOULD BE (y\\[n]) \n",
      "Is Ther Any Diarrhea ?  y\n",
      "-----------------------------------------------------------------------\n",
      "could you please choose one of this list to describe The [ DIARRHEA ] you Have ? \n",
      "-----------------------------------------------------------------------\n",
      "\n",
      "1 [dIARRHEA]  2 [NON_GROSSLY_BLOODY_DIARRHEA]  3 [GROSSLY_BLOODY_DIARRHEA]  4 [CHRONIC_GREASY_DIARRHEA]  2\n",
      "You probably Have [CROHN DISEASE] but to be sure you shoudl make an [EGD] Test.\n",
      "-----------------------------------------------------------------------------------------------------------------------\n",
      "1 [ULCERS AND EROSIONS IN DOUDENUM]   2 [ULCERS AND EROSIONS IN STOMACH]   3 [BLUNTED VILLI]   4 [SUPER FACIAL INFLAMMATORY INFILTRATE]   5 [DIFFUSE ULCERAION]   6 [PSEUDO POLPLUS]   7 [SUPERFICIAL CHRONIC INFLAMMATION]   8 [CRYPT ABSCESS]   9 [DEEP AND LONG FISSURES]   10 [COBBLESTONING]   \n",
      "---------------------------------------------------------------------------------------------------------------------\n",
      "\n",
      "+ + + + + + + + + + + + + + + + + + + + + + + + + + + + + + + + + + + + + + + + \n",
      "1[VERY CLEAR]\t 2[A Little]\t 3[NOT CLEAR]\t \n",
      "+ + + + + + + + + + + + + + + + + + + + + + + + + + + + + + + + + + + + + + + +\n",
      "\n",
      "PLEASE MAKE THE ANSWER TOW NUMBER THE FIRST ONE IS THE [MANIFISTATION] THE SECOND ONE IS THE DEGREE OF MANIFASTAION.\n",
      "\n",
      "*****************************************************\n",
      "YOU CAN END THE INPUT BY ENTERING [E\\e].\n",
      "*****************************************************\n",
      "\n",
      "The Number You Wont!e\n",
      "------------------------------------------------------------------------------------------------\n",
      "1 [ALMOST]\t 2 [VERY MUCH]\t 3 [A LITTLE]\t 4 [SOMETIMES]\t 5 [YES]\t 6 [NEVER]\t 7 [NOT SURE]\t 8 [NO]\t \n",
      "----------------------------------------------------------------------------------------------\n",
      "Dose Pain Worsed by Food ?3\n",
      "-------------------------------------------------------------------------------------------\n",
      "------------------------------------------------------------------------------------------------\n",
      "1 [ALMOST]\t 2 [VERY MUCH]\t 3 [A LITTLE]\t 4 [SOMETIMES]\t 5 [YES]\t 6 [NEVER]\t 7 [NOT SURE]\t 8 [NO]\t \n",
      "----------------------------------------------------------------------------------------------\n",
      "Dose Pain Worsed by strees ?4\n",
      "-------------------------------------------------------------------------------------------\n",
      "------------------------------------------------------------------------------------------------\n",
      "1 [ALMOST]\t 2 [VERY MUCH]\t 3 [A LITTLE]\t 4 [SOMETIMES]\t 5 [YES]\t 6 [NEVER]\t 7 [NOT SURE]\t 8 [NO]\t \n",
      "----------------------------------------------------------------------------------------------\n",
      "Do you Have [ABDOMINAL FLATULENCE]  ? 5\n",
      "-------------------------------------------------------------------------------------------\n",
      "138\n",
      "you Have [ IBS ] with probability 0.720500\n",
      "you Have [ CROHN_DISEASE ] with probability 0.871568\n",
      "you Have [ CHOLECYSTITIS ] with probability 0.979653\n",
      "Done !\n"
     ]
    }
   ],
   "source": [
    "t=engine()\n",
    "t.reset()\n",
    "t.run()"
   ]
  },
  {
   "cell_type": "code",
   "execution_count": 24,
   "metadata": {},
   "outputs": [
    {
     "data": {
      "text/plain": [
       "FactList([(0, InitialFact()),\n",
       "          (4, Manifestaion(name=<Clinic.NOUSEA: 4>, CF=-1.0)),\n",
       "          (5, Manifestaion(name=<Clinic.BILE_VOMITTING: 20>, CF=-0.97)),\n",
       "          (6, Manifestaion(name=<Clinic.BLEEDING_VOMITING: 5>, CF=-0.98)),\n",
       "          (7, Manifestaion(name=<Clinic.VOMITING: 15>, CF=-0.98)),\n",
       "          (8, Manifestaion(name=<Clinic.FAVER: 13>, CF=-1.0)),\n",
       "          (9, Answer(name=<DISEASE.CHOLECYSTITIS: 407>, pro=0.7)),\n",
       "          (10, Manifestaion(name=<Clinic.WEIGH_LOSS: 7>, CF=1.0)),\n",
       "          (12, Fact(name='diarrhea')),\n",
       "          (13, Manifestaion(name=<Clinic.ABDOMINAL_PAIN: 3>, CF=0.2)),\n",
       "          (17, Answer(name=<DISEASE.IBS: 409>, pro=0.955)),\n",
       "          (18, GoalisTo(action='getAnother')),\n",
       "          (19, Fact('Done'))])"
      ]
     },
     "execution_count": 24,
     "metadata": {},
     "output_type": "execute_result"
    }
   ],
   "source": [
    "t.facts"
   ]
  },
  {
   "cell_type": "code",
   "execution_count": 17,
   "metadata": {},
   "outputs": [
    {
     "name": "stdout",
     "output_type": "stream",
     "text": [
      "Help on built-in function print in module builtins:\n",
      "\n",
      "print(...)\n",
      "    print(value, ..., sep=' ', end='\\n', file=sys.stdout, flush=False)\n",
      "    \n",
      "    Prints the values to a stream, or to sys.stdout by default.\n",
      "    Optional keyword arguments:\n",
      "    file:  a file-like object (stream); defaults to the current sys.stdout.\n",
      "    sep:   string inserted between values, default a space.\n",
      "    end:   string appended after the last value, default a newline.\n",
      "    flush: whether to forcibly flush the stream.\n",
      "\n"
     ]
    }
   ],
   "source": [
    "help(print)"
   ]
  },
  {
   "cell_type": "code",
   "execution_count": null,
   "metadata": {},
   "outputs": [],
   "source": []
  }
 ],
 "metadata": {
  "kernelspec": {
   "display_name": "Python 3",
   "language": "python",
   "name": "python3"
  },
  "language_info": {
   "codemirror_mode": {
    "name": "ipython",
    "version": 3
   },
   "file_extension": ".py",
   "mimetype": "text/x-python",
   "name": "python",
   "nbconvert_exporter": "python",
   "pygments_lexer": "ipython3",
   "version": "3.9.2"
  }
 },
 "nbformat": 4,
 "nbformat_minor": 2
}
